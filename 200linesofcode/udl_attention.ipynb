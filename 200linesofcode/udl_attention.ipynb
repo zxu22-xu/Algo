{
 "cells": [
  {
   "cell_type": "code",
   "execution_count": 34,
   "id": "ef36261f-df86-4c10-8a12-2c5bff06702d",
   "metadata": {},
   "outputs": [],
   "source": [
    "import numpy as np\n",
    "import matplotlib.pyplot as plt"
   ]
  },
  {
   "cell_type": "code",
   "execution_count": 35,
   "id": "c1147190-d8f7-4f27-b1c8-7408d95ed891",
   "metadata": {},
   "outputs": [
    {
     "name": "stdout",
     "output_type": "stream",
     "text": [
      "[array([[ 1.78862847],\n",
      "       [ 0.43650985],\n",
      "       [ 0.09649747],\n",
      "       [-1.8634927 ]]), array([[-0.2773882 ],\n",
      "       [-0.35475898],\n",
      "       [-0.08274148],\n",
      "       [-0.62700068]]), array([[-0.04381817],\n",
      "       [-0.47721803],\n",
      "       [-1.31386475],\n",
      "       [ 0.88462238]])]\n"
     ]
    }
   ],
   "source": [
    "# set seed so we get the same random numbers\n",
    "np.random.seed(3)\n",
    "# number of inputs\n",
    "N = 3\n",
    "# number of dimensions of each input\n",
    "D = 4\n",
    "# create an empty list\n",
    "all_x = []\n",
    "# create elements in x_n and append to list\n",
    "for n in range(N):\n",
    "    all_x.append(np.random.normal(size = (D, 1)))\n",
    "\n",
    "# print out the list\n",
    "print(all_x)"
   ]
  },
  {
   "cell_type": "code",
   "execution_count": 36,
   "id": "9c749d8e-dd35-4105-a204-9ffb09912067",
   "metadata": {},
   "outputs": [],
   "source": [
    "# choose weights and biases for the keys, queries, and values\n",
    "np.random.seed(0)\n",
    "\n",
    "# choose random values for the parameters \n",
    "omega_q = np.random.normal(size = (D, D))\n",
    "omega_k = np.random.normal(size = (D, D))\n",
    "omega_v = np.random.normal(size = (D, D))\n",
    "beta_q = np.random.normal(size = (D, 1))\n",
    "beta_k = np.random.normal(size = (D, 1))\n",
    "beta_v = np.random.normal(size = (D, 1))"
   ]
  },
  {
   "cell_type": "code",
   "execution_count": 37,
   "id": "4b6b40fb-3724-4277-8679-5b0afc00abfa",
   "metadata": {},
   "outputs": [],
   "source": [
    "# make three lists to store queries, keys, and values\n",
    "all_queries = []\n",
    "all_keys = []\n",
    "all_values = []\n",
    "\n",
    "# for every input\n",
    "for x in all_x:\n",
    "    query = beta_q + np.dot(omega_q, x)\n",
    "    key = beta_k + np.dot(omega_k, x)\n",
    "    value = beta_v + np.dot(omega_v, x)\n",
    "\n",
    "    all_queries.append(query)\n",
    "    all_keys.append(key)\n",
    "    all_values.append(value)"
   ]
  },
  {
   "cell_type": "code",
   "execution_count": 22,
   "id": "f6d18687-911a-4ec4-ba1d-79be84548977",
   "metadata": {},
   "outputs": [
    {
     "ename": "ValueError",
     "evalue": "shapes (1,4,3) and (1,) not aligned: 3 (dim 2) != 1 (dim 0)",
     "output_type": "error",
     "traceback": [
      "\u001b[1;31m---------------------------------------------------------------------------\u001b[0m",
      "\u001b[1;31mValueError\u001b[0m                                Traceback (most recent call last)",
      "Cell \u001b[1;32mIn[22], line 12\u001b[0m\n\u001b[0;32m      9\u001b[0m \u001b[38;5;66;03m# for each output\u001b[39;00m\n\u001b[0;32m     10\u001b[0m \u001b[38;5;28;01mfor\u001b[39;00m n \u001b[38;5;129;01min\u001b[39;00m \u001b[38;5;28mrange\u001b[39m(N):\n\u001b[0;32m     11\u001b[0m     \u001b[38;5;66;03m# create a list for dot products of query N with all keys\u001b[39;00m\n\u001b[1;32m---> 12\u001b[0m     all_km_qn \u001b[38;5;241m=\u001b[39m \u001b[43mnp\u001b[49m\u001b[38;5;241;43m.\u001b[39;49m\u001b[43mdot\u001b[49m\u001b[43m(\u001b[49m\u001b[43mnp\u001b[49m\u001b[38;5;241;43m.\u001b[39;49m\u001b[43mtranspose\u001b[49m\u001b[43m(\u001b[49m\u001b[43mall_keys\u001b[49m\u001b[43m)\u001b[49m\u001b[43m,\u001b[49m\u001b[43m \u001b[49m\u001b[43mquery\u001b[49m\u001b[43m[\u001b[49m\u001b[43mn\u001b[49m\u001b[43m]\u001b[49m\u001b[43m)\u001b[49m\n\u001b[0;32m     13\u001b[0m     \u001b[38;5;66;03m#for key in all_keys:\u001b[39;00m\n\u001b[0;32m     14\u001b[0m     \u001b[38;5;66;03m#    dot_product = np.dot(np.transpose(key), query[n])\u001b[39;00m\n\u001b[0;32m     15\u001b[0m \n\u001b[0;32m     16\u001b[0m      \u001b[38;5;66;03m#   all_km_qn.append(dot_product)\u001b[39;00m\n\u001b[0;32m     17\u001b[0m     \n\u001b[0;32m     18\u001b[0m     \u001b[38;5;66;03m# compute dot product attention\u001b[39;00m\n\u001b[0;32m     19\u001b[0m     attention \u001b[38;5;241m=\u001b[39m softmax(all_km_qn)\n",
      "\u001b[1;31mValueError\u001b[0m: shapes (1,4,3) and (1,) not aligned: 3 (dim 2) != 1 (dim 0)"
     ]
    }
   ],
   "source": [
    "# need a softmax \n",
    "def softmax(dot_products):\n",
    "    res = np.exp(dot_products) / np.sum(np.exp(dot_products))\n",
    "    return res\n",
    "\n",
    "# create empty list for output\n",
    "all_x_prime = []\n",
    "\n",
    "# for each output\n",
    "for n in range(N):\n",
    "    # create a list for dot products of query N with all keys\n",
    "    all_km_qn = []\n",
    "    for key in all_keys:\n",
    "        dot_product = np.dot(np.transpose(key), query[n])\n",
    "\n",
    "        all_km_qn.append(dot_product)\n",
    "    \n",
    "    # compute dot product attention\n",
    "    attention = softmax(all_km_qn)\n",
    "\n",
    "    # print result (should be positive)\n",
    "    print(\"Attentions for output \", n)\n",
    "    print(attention)\n",
    "\n",
    "    # compute a weighted sum of all the values according to the attention\n",
    "    x_prime_sum = 0\n",
    "    for n in range(N):\n",
    "        x_prime_sum += np.dot(attention, all_values[n])\n",
    "        \n",
    "    all_x_prime.append(x_prime_sum)\n",
    "\n",
    "# print out the true values to check you have it correct\n",
    "print(\"x_prime_0_calculated:\", all_x_prime[0].transpose())\n",
    "print(\"x_prime_0_true: [[ 0.94744244 -0.24348429 -0.91310441 -0.44522983]]\")\n",
    "print(\"x_prime_1_calculated:\", all_x_prime[1].transpose())\n",
    "print(\"x_prime_1_true: [[ 1.64201168 -0.08470004  4.02764044  2.18690791]]\")\n",
    "print(\"x_prime_2_calculated:\", all_x_prime[2].transpose())\n",
    "print(\"x_prime_2_true: [[ 1.61949281 -0.06641533  3.96863308  2.15858316]]\")"
   ]
  },
  {
   "cell_type": "code",
   "execution_count": 42,
   "id": "3b2440ba-e9eb-437b-8b79-26f4fc225b46",
   "metadata": {},
   "outputs": [],
   "source": [
    "# try the matrix version provided by the writer \n",
    "# Define softmax operation that works independently on each column\n",
    "def softmax_cols(data_in):\n",
    "  # Exponentiate all of the values\n",
    "  exp_values = np.exp(data_in)\n",
    "  # Sum over columns\n",
    "  denom = np.sum(exp_values, axis = 0)\n",
    "  # Replicate denominator to N rows\n",
    "  denom = np.matmul(np.ones((data_in.shape[0],1)), denom[np.newaxis,:])\n",
    "  # Compute softmax\n",
    "  softmax = exp_values / denom\n",
    "  # return the answer\n",
    "  return softmax"
   ]
  },
  {
   "cell_type": "code",
   "execution_count": 49,
   "id": "610cead9-9125-469d-ad09-9fcfc4fe154a",
   "metadata": {},
   "outputs": [
    {
     "name": "stdout",
     "output_type": "stream",
     "text": [
      "[[ 0.94744244  1.64201168  1.61949281]\n",
      " [-0.24348429 -0.08470004 -0.06641533]\n",
      " [-0.91310441  4.02764044  3.96863308]\n",
      " [-0.44522983  2.18690791  2.15858316]]\n"
     ]
    }
   ],
   "source": [
    "# compute self-attention in matrix form \n",
    "def self_attention(X, omega_v, omega_q, omega_k, beta_v, beta_q, beta_k):\n",
    "    one_T = np.transpose(np.ones((N, 1)))\n",
    "    queries = np.add(np.dot(beta_q, one_T), np.dot(omega_q, X))\n",
    "    keys = np.add(np.dot(beta_k, one_T), np.dot(omega_k, X))\n",
    "    values = np.add(np.dot(beta_v, one_T), np.dot(omega_v, X))\n",
    "    dot_prod = np.dot(np.transpose(keys), queries)\n",
    "    softmax_values = softmax_cols(dot_prod)\n",
    "    X_prime = np.dot(values, softmax_values)\n",
    "\n",
    "    return X_prime\n",
    "\n",
    "# Copy data into matrix\n",
    "X = np.zeros((D, N))\n",
    "X[:,0] = np.squeeze(all_x[0])\n",
    "X[:,1] = np.squeeze(all_x[1])\n",
    "X[:,2] = np.squeeze(all_x[2])\n",
    "\n",
    "# Run the self attention mechanism\n",
    "X_prime = self_attention(X,omega_v, omega_q, omega_k, beta_v, beta_q, beta_k)\n",
    "\n",
    "# Print out the results\n",
    "np.set_printoptions(suppress=True)\n",
    "print(X_prime)"
   ]
  },
  {
   "cell_type": "code",
   "execution_count": 29,
   "id": "06cb9760-214e-46cb-862a-4cca41c24563",
   "metadata": {},
   "outputs": [
    {
     "name": "stdout",
     "output_type": "stream",
     "text": [
      "(1, 3)\n"
     ]
    }
   ],
   "source": [
    "wan_T = np.transpose(np.ones((N, 1)))\n",
    "print(wan_T.shape)"
   ]
  },
  {
   "cell_type": "code",
   "execution_count": null,
   "id": "295eec79-b6aa-47a2-8aa7-21d4e3dfbe16",
   "metadata": {},
   "outputs": [],
   "source": []
  }
 ],
 "metadata": {
  "kernelspec": {
   "display_name": "Python 3 (ipykernel)",
   "language": "python",
   "name": "python3"
  },
  "language_info": {
   "codemirror_mode": {
    "name": "ipython",
    "version": 3
   },
   "file_extension": ".py",
   "mimetype": "text/x-python",
   "name": "python",
   "nbconvert_exporter": "python",
   "pygments_lexer": "ipython3",
   "version": "3.12.2"
  }
 },
 "nbformat": 4,
 "nbformat_minor": 5
}
