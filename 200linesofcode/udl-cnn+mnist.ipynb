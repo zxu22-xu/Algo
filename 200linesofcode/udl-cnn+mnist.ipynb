{
 "cells": [
  {
   "cell_type": "code",
   "execution_count": 1,
   "id": "91d30b45-a166-471b-8fab-15455bbd45af",
   "metadata": {},
   "outputs": [],
   "source": [
    "import numpy as np\n",
    "import pandas as pd\n",
    "import matplotlib.pyplot as plt\n",
    "import os\n",
    "import torch, torch.nn as nn\n",
    "from torch.utils.data import TensorDataset, DataLoader\n",
    "from torch.optim.lr_scheduler import StepLR\n",
    "import mnist1d\n",
    "import random"
   ]
  },
  {
   "cell_type": "code",
   "execution_count": 2,
   "id": "3d54f6d1-82d4-4d77-b9cd-13d74d7cf6e8",
   "metadata": {},
   "outputs": [
    {
     "name": "stdout",
     "output_type": "stream",
     "text": [
      "Successfully loaded data from ./mnist1d_data.pkl\n",
      "Examples in the training set: 4000\n",
      "Examples in test set: 1000\n",
      "Length of each example: 40\n"
     ]
    }
   ],
   "source": [
    "args = mnist1d.data.get_dataset_args()\n",
    "data = mnist1d.data.get_dataset(args, path = './mnist1d_data.pkl', download = False, regenerate=False)\n",
    "\n",
    "print(\"Examples in the training set: {}\".format(len(data['y'])))\n",
    "print(\"Examples in test set: {}\".format(len(data['y_test'])))\n",
    "print(\"Length of each example: {}\".format(data['x'].shape[-1]))"
   ]
  },
  {
   "cell_type": "code",
   "execution_count": 3,
   "id": "acdd14ec-12ac-4798-ad60-77f6824f6382",
   "metadata": {},
   "outputs": [
    {
     "name": "stdout",
     "output_type": "stream",
     "text": [
      "Train data: 4000 examples (columns), each of which has 40 dimensions (rows)\n",
      "Validation data: 1000 examples (columns), each of which has 40 dimensions (rows)\n"
     ]
    }
   ],
   "source": [
    "# load the data\n",
    "train_data_x = data['x'].transpose()\n",
    "train_data_y = data['y']\n",
    "val_data_x = data['x_test'].transpose()\n",
    "val_data_y = data['y_test']\n",
    "# Print out sizes\n",
    "print(\"Train data: %d examples (columns), each of which has %d dimensions (rows)\"%((train_data_x.shape[1],train_data_x.shape[0])))\n",
    "print(\"Validation data: %d examples (columns), each of which has %d dimensions (rows)\"%((val_data_x.shape[1],val_data_x.shape[0])))\n",
    "     "
   ]
  },
  {
   "cell_type": "code",
   "execution_count": 4,
   "id": "11d68bce-cb8b-47e4-890c-ecf5b2caed95",
   "metadata": {},
   "outputs": [],
   "source": [
    "# there are 40 input dimensions\n",
    "D_i = 40\n",
    "\n",
    "# the outputs corresponds to 10 digits\n",
    "D_o = 10\n",
    "\n",
    "# TODO Create a model with the following layers\n",
    "# 1. Convolutional layer, (input=length 40 and 1 channel, kernel size 3, stride 2, padding=\"valid\", 15 output channels )\n",
    "# 2. ReLU\n",
    "# 3. Convolutional layer, (input=length 19 and 15 channels, kernel size 3, stride 2, padding=\"valid\", 15 output channels )\n",
    "# 4. ReLU\n",
    "# 5. Convolutional layer, (input=length 9 and 15 channels, kernel size 3, stride 2, padding=\"valid\", 15 output channels)\n",
    "# 6. ReLU\n",
    "# 7. Flatten (converts 4x15) to length 60\n",
    "# 8. Linear layer (input size = 60, output size = 10)\n",
    "\n",
    "model = nn.Sequential(\n",
    "    nn.Conv1d(in_channels=1, out_channels=15, kernel_size=3, stride=2, padding=0),\n",
    "    nn.ReLU(),\n",
    "    nn.Conv1d(in_channels=15, out_channels=15, kernel_size=3, stride=2, padding=0),\n",
    "    nn.ReLU(),\n",
    "    nn.Conv1d(in_channels=15, out_channels=15, kernel_size=3, stride=2, padding=0),\n",
    "    nn.ReLU(),\n",
    "    nn.Flatten(),\n",
    "    nn.Linear(in_features=60, out_features=10)\n",
    ")\n"
   ]
  },
  {
   "cell_type": "code",
   "execution_count": 5,
   "id": "1d49a139-2638-4dbd-8975-1e096d6a8755",
   "metadata": {},
   "outputs": [],
   "source": [
    "# initialize the weights\n",
    "def weights_init(layer_in):\n",
    "    if isinstance(layer_in, nn.Linear):\n",
    "        nn.init.kaiming_uniform_(layer_in.weight)\n",
    "        layer_in.bias.data.fill_(0.0)"
   ]
  },
  {
   "cell_type": "code",
   "execution_count": 6,
   "id": "f60f52b9-d67a-4fed-a59e-f4291e76beb8",
   "metadata": {},
   "outputs": [
    {
     "data": {
      "text/plain": [
       "Sequential(\n",
       "  (0): Conv1d(1, 15, kernel_size=(3,), stride=(2,))\n",
       "  (1): ReLU()\n",
       "  (2): Conv1d(15, 15, kernel_size=(3,), stride=(2,))\n",
       "  (3): ReLU()\n",
       "  (4): Conv1d(15, 15, kernel_size=(3,), stride=(2,))\n",
       "  (5): ReLU()\n",
       "  (6): Flatten(start_dim=1, end_dim=-1)\n",
       "  (7): Linear(in_features=60, out_features=10, bias=True)\n",
       ")"
      ]
     },
     "execution_count": 6,
     "metadata": {},
     "output_type": "execute_result"
    }
   ],
   "source": [
    "# choose cross entropy loss function (equation 5.24 in the loss notes)\n",
    "loss_function = nn.CrossEntropyLoss()\n",
    "# construct SGD optimizer and initialize learning rate and momentum\n",
    "optimizer = torch.optim.SGD(model.parameters(), lr = 0.05, momentum=0.9)\n",
    "# object that decreases learning rate by half every 20 epochs\n",
    "scheduler = StepLR(optimizer, step_size=20, gamma=0.5)\n",
    "# create 100 dummy data points and store in data loader class\n",
    "x_train = torch.tensor(train_data_x.transpose().astype('float32'))\n",
    "y_train = torch.tensor(train_data_y.astype('long')).long()\n",
    "x_val= torch.tensor(val_data_x.transpose().astype('float32'))\n",
    "y_val = torch.tensor(val_data_y.astype('long')).long()\n",
    "\n",
    "# load the data into a class that creates the batches\n",
    "data_loader = DataLoader(TensorDataset(x_train,y_train), batch_size=100, shuffle=True, worker_init_fn=np.random.seed(1))\n",
    "\n",
    "# Initialize model weights\n",
    "model.apply(weights_init)"
   ]
  },
  {
   "cell_type": "code",
   "execution_count": 7,
   "id": "5a45a737-889d-4f06-8366-9fe83ce3b153",
   "metadata": {},
   "outputs": [
    {
     "name": "stdout",
     "output_type": "stream",
     "text": [
      "Epoch     0, train loss 2.164831, train error 82.55,  val loss 2.184056, percent error 84.30\n",
      "Epoch     1, train loss 1.693731, train error 70.60,  val loss 1.712340, percent error 70.90\n",
      "Epoch     2, train loss 1.421679, train error 57.17,  val loss 1.442641, percent error 61.30\n",
      "Epoch     3, train loss 1.298841, train error 52.42,  val loss 1.314902, percent error 53.00\n",
      "Epoch     4, train loss 1.259139, train error 51.47,  val loss 1.276614, percent error 53.40\n",
      "Epoch     5, train loss 1.127984, train error 46.17,  val loss 1.149209, percent error 48.20\n",
      "Epoch     6, train loss 1.058261, train error 42.45,  val loss 1.086235, percent error 45.90\n",
      "Epoch     7, train loss 0.939076, train error 37.88,  val loss 0.973409, percent error 38.90\n",
      "Epoch     8, train loss 0.875987, train error 35.43,  val loss 0.922793, percent error 37.20\n",
      "Epoch     9, train loss 0.770597, train error 30.15,  val loss 0.820180, percent error 32.20\n",
      "Epoch    10, train loss 0.684798, train error 25.90,  val loss 0.759468, percent error 29.60\n",
      "Epoch    11, train loss 0.592063, train error 21.90,  val loss 0.645292, percent error 25.50\n",
      "Epoch    12, train loss 0.654599, train error 25.12,  val loss 0.713139, percent error 27.40\n",
      "Epoch    13, train loss 0.497237, train error 19.38,  val loss 0.583444, percent error 21.60\n",
      "Epoch    14, train loss 0.475923, train error 18.30,  val loss 0.586735, percent error 22.80\n",
      "Epoch    15, train loss 0.481280, train error 18.53,  val loss 0.610611, percent error 23.00\n",
      "Epoch    16, train loss 0.380391, train error 14.85,  val loss 0.485739, percent error 18.10\n",
      "Epoch    17, train loss 0.386877, train error 14.82,  val loss 0.527788, percent error 18.70\n",
      "Epoch    18, train loss 0.359304, train error 12.90,  val loss 0.490624, percent error 17.60\n",
      "Epoch    19, train loss 0.325016, train error 11.93,  val loss 0.457715, percent error 17.20\n",
      "Epoch    20, train loss 0.231411, train error 8.38,  val loss 0.397235, percent error 14.40\n",
      "Epoch    21, train loss 0.208532, train error 7.80,  val loss 0.371013, percent error 12.40\n",
      "Epoch    22, train loss 0.215266, train error 8.03,  val loss 0.386892, percent error 12.90\n",
      "Epoch    23, train loss 0.194286, train error 7.20,  val loss 0.388139, percent error 12.80\n",
      "Epoch    24, train loss 0.189142, train error 6.75,  val loss 0.387543, percent error 12.00\n",
      "Epoch    25, train loss 0.231571, train error 8.53,  val loss 0.424080, percent error 13.00\n",
      "Epoch    26, train loss 0.189637, train error 7.15,  val loss 0.396617, percent error 13.50\n",
      "Epoch    27, train loss 0.171423, train error 6.07,  val loss 0.369229, percent error 12.20\n",
      "Epoch    28, train loss 0.161404, train error 5.50,  val loss 0.343613, percent error 11.70\n",
      "Epoch    29, train loss 0.161338, train error 5.62,  val loss 0.358249, percent error 11.80\n",
      "Epoch    30, train loss 0.163265, train error 6.00,  val loss 0.387107, percent error 12.40\n",
      "Epoch    31, train loss 0.182818, train error 6.75,  val loss 0.392157, percent error 11.60\n",
      "Epoch    32, train loss 0.133457, train error 4.55,  val loss 0.386755, percent error 11.00\n",
      "Epoch    33, train loss 0.144930, train error 5.20,  val loss 0.397498, percent error 10.60\n",
      "Epoch    34, train loss 0.116973, train error 3.78,  val loss 0.363111, percent error 9.90\n",
      "Epoch    35, train loss 0.143270, train error 5.40,  val loss 0.383192, percent error 11.20\n",
      "Epoch    36, train loss 0.140555, train error 5.07,  val loss 0.374147, percent error 11.00\n",
      "Epoch    37, train loss 0.124839, train error 4.30,  val loss 0.378494, percent error 11.30\n",
      "Epoch    38, train loss 0.110504, train error 3.82,  val loss 0.375675, percent error 10.70\n",
      "Epoch    39, train loss 0.094097, train error 2.95,  val loss 0.337545, percent error 10.90\n",
      "Epoch    40, train loss 0.086491, train error 2.72,  val loss 0.356722, percent error 9.40\n",
      "Epoch    41, train loss 0.081518, train error 2.32,  val loss 0.355411, percent error 9.90\n",
      "Epoch    42, train loss 0.076408, train error 2.22,  val loss 0.356212, percent error 9.70\n",
      "Epoch    43, train loss 0.078055, train error 2.38,  val loss 0.376710, percent error 9.60\n",
      "Epoch    44, train loss 0.073921, train error 2.20,  val loss 0.364985, percent error 10.20\n",
      "Epoch    45, train loss 0.072583, train error 2.00,  val loss 0.381392, percent error 10.40\n",
      "Epoch    46, train loss 0.070799, train error 2.35,  val loss 0.372830, percent error 9.50\n",
      "Epoch    47, train loss 0.071176, train error 2.15,  val loss 0.373332, percent error 10.00\n",
      "Epoch    48, train loss 0.069732, train error 2.20,  val loss 0.378867, percent error 9.60\n",
      "Epoch    49, train loss 0.065129, train error 1.78,  val loss 0.377469, percent error 9.70\n",
      "Epoch    50, train loss 0.065701, train error 1.65,  val loss 0.381316, percent error 10.20\n",
      "Epoch    51, train loss 0.071867, train error 2.20,  val loss 0.389235, percent error 10.20\n",
      "Epoch    52, train loss 0.065049, train error 1.82,  val loss 0.377230, percent error 9.80\n",
      "Epoch    53, train loss 0.062336, train error 1.80,  val loss 0.382911, percent error 10.30\n",
      "Epoch    54, train loss 0.059285, train error 1.45,  val loss 0.393668, percent error 10.10\n",
      "Epoch    55, train loss 0.060952, train error 1.88,  val loss 0.393410, percent error 10.30\n",
      "Epoch    56, train loss 0.062481, train error 1.72,  val loss 0.380293, percent error 10.40\n",
      "Epoch    57, train loss 0.058559, train error 1.72,  val loss 0.399917, percent error 9.70\n",
      "Epoch    58, train loss 0.055875, train error 1.40,  val loss 0.399348, percent error 9.50\n",
      "Epoch    59, train loss 0.053850, train error 1.32,  val loss 0.387634, percent error 9.90\n",
      "Epoch    60, train loss 0.049148, train error 1.18,  val loss 0.389147, percent error 10.10\n",
      "Epoch    61, train loss 0.049033, train error 1.18,  val loss 0.392007, percent error 10.50\n",
      "Epoch    62, train loss 0.047857, train error 0.97,  val loss 0.401191, percent error 10.40\n",
      "Epoch    63, train loss 0.048325, train error 1.03,  val loss 0.405673, percent error 9.70\n",
      "Epoch    64, train loss 0.046051, train error 1.00,  val loss 0.399426, percent error 10.40\n",
      "Epoch    65, train loss 0.046265, train error 1.00,  val loss 0.407763, percent error 9.90\n",
      "Epoch    66, train loss 0.045143, train error 0.90,  val loss 0.407991, percent error 9.80\n",
      "Epoch    67, train loss 0.044719, train error 0.95,  val loss 0.406433, percent error 10.10\n",
      "Epoch    68, train loss 0.046177, train error 1.12,  val loss 0.404932, percent error 10.00\n",
      "Epoch    69, train loss 0.044309, train error 0.85,  val loss 0.405238, percent error 9.70\n",
      "Epoch    70, train loss 0.044391, train error 1.03,  val loss 0.412495, percent error 10.00\n",
      "Epoch    71, train loss 0.042802, train error 0.90,  val loss 0.421187, percent error 9.60\n",
      "Epoch    72, train loss 0.042805, train error 0.93,  val loss 0.417347, percent error 9.70\n",
      "Epoch    73, train loss 0.041194, train error 0.78,  val loss 0.415155, percent error 10.40\n",
      "Epoch    74, train loss 0.041506, train error 0.90,  val loss 0.418220, percent error 9.90\n",
      "Epoch    75, train loss 0.039989, train error 0.75,  val loss 0.420700, percent error 9.70\n",
      "Epoch    76, train loss 0.041644, train error 0.95,  val loss 0.422397, percent error 10.40\n",
      "Epoch    77, train loss 0.042560, train error 0.88,  val loss 0.420567, percent error 9.90\n",
      "Epoch    78, train loss 0.039858, train error 0.78,  val loss 0.428756, percent error 9.70\n",
      "Epoch    79, train loss 0.038288, train error 0.78,  val loss 0.425190, percent error 10.00\n",
      "Epoch    80, train loss 0.038539, train error 0.72,  val loss 0.424080, percent error 9.90\n",
      "Epoch    81, train loss 0.038027, train error 0.80,  val loss 0.427342, percent error 10.00\n",
      "Epoch    82, train loss 0.037798, train error 0.80,  val loss 0.426278, percent error 10.00\n",
      "Epoch    83, train loss 0.037119, train error 0.75,  val loss 0.430403, percent error 9.80\n",
      "Epoch    84, train loss 0.037370, train error 0.72,  val loss 0.433370, percent error 9.60\n",
      "Epoch    85, train loss 0.037511, train error 0.82,  val loss 0.427124, percent error 10.10\n",
      "Epoch    86, train loss 0.037721, train error 0.72,  val loss 0.435083, percent error 10.20\n",
      "Epoch    87, train loss 0.037637, train error 0.88,  val loss 0.433706, percent error 9.60\n",
      "Epoch    88, train loss 0.036867, train error 0.68,  val loss 0.432664, percent error 9.60\n",
      "Epoch    89, train loss 0.035790, train error 0.70,  val loss 0.432893, percent error 10.00\n",
      "Epoch    90, train loss 0.035556, train error 0.65,  val loss 0.433920, percent error 9.90\n",
      "Epoch    91, train loss 0.035971, train error 0.72,  val loss 0.431348, percent error 9.70\n",
      "Epoch    92, train loss 0.035131, train error 0.68,  val loss 0.437668, percent error 10.20\n",
      "Epoch    93, train loss 0.034930, train error 0.65,  val loss 0.436130, percent error 10.00\n",
      "Epoch    94, train loss 0.035596, train error 0.72,  val loss 0.446090, percent error 10.20\n",
      "Epoch    95, train loss 0.034501, train error 0.65,  val loss 0.440779, percent error 10.00\n",
      "Epoch    96, train loss 0.034475, train error 0.62,  val loss 0.439434, percent error 10.00\n",
      "Epoch    97, train loss 0.034350, train error 0.57,  val loss 0.443306, percent error 10.30\n",
      "Epoch    98, train loss 0.034020, train error 0.65,  val loss 0.438664, percent error 10.00\n",
      "Epoch    99, train loss 0.033797, train error 0.65,  val loss 0.440027, percent error 9.90\n"
     ]
    },
    {
     "data": {
      "image/png": "[encoded data removed]",
      "text/plain": [
       "<Figure size 640x480 with 1 Axes>"
      ]
     },
     "metadata": {},
     "output_type": "display_data"
    }
   ],
   "source": [
    "# loop over the dataset n_epoch times\n",
    "n_epoch = 100\n",
    "# store the loss and the % correct at each epoch\n",
    "losses_train = np.zeros((n_epoch))\n",
    "errors_train = np.zeros((n_epoch))\n",
    "losses_val = np.zeros((n_epoch))\n",
    "errors_val = np.zeros((n_epoch))\n",
    "\n",
    "for epoch in range(n_epoch):\n",
    "    # loop over batches\n",
    "    for i, data in enumerate(data_loader):\n",
    "        # retrieve inputs and labels for this batch\n",
    "        x_batch, y_batch = data\n",
    "        # zero the parameter gradients\n",
    "        optimizer.zero_grad()\n",
    "        # forward pass -- calculate model output\n",
    "        pred = model(x_batch[:,None,:])\n",
    "        # compute the loss\n",
    "        loss = loss_function(pred, y_batch)\n",
    "        # backward pass\n",
    "        loss.backward()\n",
    "        # SGD update\n",
    "        optimizer.step()\n",
    "\n",
    "    # Run whole dataset to get statistics -- normally wouldn't do this\n",
    "    pred_train = model(x_train[:,None,:])\n",
    "    pred_val = model(x_val[:,None,:])\n",
    "    _, predicted_train_class = torch.max(pred_train.data, 1)\n",
    "    _, predicted_val_class = torch.max(pred_val.data, 1)\n",
    "    errors_train[epoch] = 100 - 100 * (predicted_train_class == y_train).float().sum() / len(y_train)\n",
    "    errors_val[epoch]= 100 - 100 * (predicted_val_class == y_val).float().sum() / len(y_val)\n",
    "    losses_train[epoch] = loss_function(pred_train, y_train).item()\n",
    "    losses_val[epoch]= loss_function(pred_val, y_val).item()\n",
    "    print(f'Epoch {epoch:5d}, train loss {losses_train[epoch]:.6f}, train error {errors_train[epoch]:3.2f},  val loss {losses_val[epoch]:.6f}, percent error {errors_val[epoch]:3.2f}')\n",
    "\n",
    "    # tell scheduler to consider updating learning rate\n",
    "    scheduler.step()\n",
    "\n",
    "# Plot the results\n",
    "fig, ax = plt.subplots()\n",
    "ax.plot(errors_train,'r-',label='train')\n",
    "ax.plot(errors_val,'b-',label='validation')\n",
    "ax.set_ylim(0,100); ax.set_xlim(0,n_epoch)\n",
    "ax.set_xlabel('Epoch'); ax.set_ylabel('Error')\n",
    "ax.set_title('Part I: Validation Result %3.2f'%(errors_val[-1]))\n",
    "ax.legend()\n",
    "plt.show()"
   ]
  },
  {
   "cell_type": "code",
   "execution_count": null,
   "id": "b2838633-2931-4365-b35c-1993038b467b",
   "metadata": {},
   "outputs": [],
   "source": []
  }
 ],
 "metadata": {
  "kernelspec": {
   "display_name": "Python 3 (ipykernel)",
   "language": "python",
   "name": "python3"
  },
  "language_info": {
   "codemirror_mode": {
    "name": "ipython",
    "version": 3
   },
   "file_extension": ".py",
   "mimetype": "text/x-python",
   "name": "python",
   "nbconvert_exporter": "python",
   "pygments_lexer": "ipython3",
   "version": "3.12.2"
  }
 },
 "nbformat": 4,
 "nbformat_minor": 5
}
